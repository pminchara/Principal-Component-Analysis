{
  "nbformat": 4,
  "nbformat_minor": 0,
  "metadata": {
    "colab": {
      "name": "PCA.ipynb",
      "provenance": [],
      "collapsed_sections": [],
      "toc_visible": true,
      "mount_file_id": "1eBX--w_UEfSJZTuzalbu3vzsEdGmOSwc",
      "authorship_tag": "ABX9TyMSqT/K03uIJoPAlA95UXZF"
    },
    "kernelspec": {
      "name": "python3",
      "display_name": "Python 3"
    }
  },
  "cells": [
    {
      "cell_type": "markdown",
      "metadata": {
        "id": "g_rxeP9oEGcK"
      },
      "source": [
        "# **CV Mid term Assignment**\n",
        "**Inchara Polepalli Muneshkumar**\n",
        "\n",
        "**Student ID - 20307270**"
      ]
    },
    {
      "cell_type": "markdown",
      "metadata": {
        "id": "FMOlBw6FJGve"
      },
      "source": [
        "**Question A**"
      ]
    },
    {
      "cell_type": "code",
      "metadata": {
        "id": "R0fQd63rXCvW"
      },
      "source": [
        "from PIL import Image\n",
        "import cv2 as cv\n",
        "import os\n",
        "import pandas as pd\n",
        "import numpy as np\n",
        "from sklearn.decomposition import PCA"
      ],
      "execution_count": null,
      "outputs": []
    },
    {
      "cell_type": "code",
      "metadata": {
        "id": "97F1eeS0fPH9"
      },
      "source": [
        "import matplotlib.pyplot as plt\n",
        "import seaborn as sns\n",
        "sns.set_style(\"darkgrid\")\n",
        "%matplotlib inline\n",
        "plt.rcParams[\"figure.figsize\"]=[12,9]"
      ],
      "execution_count": null,
      "outputs": []
    },
    {
      "cell_type": "code",
      "metadata": {
        "id": "ibi4xLeqXU-f"
      },
      "source": [
        "im = Image.open(\"/content/drive/My Drive/CV/img.jpg\")"
      ],
      "execution_count": null,
      "outputs": []
    },
    {
      "cell_type": "code",
      "metadata": {
        "id": "EhqSiyTTXUgq"
      },
      "source": [
        "def crop():\n",
        "  k=0\n",
        "  imgwidth, imgheight = im.size\n",
        "  for i in range(0,imgheight,16):\n",
        "    for j in range(0,imgwidth,16):\n",
        "      box = (j, i, j+16, i+16)\n",
        "      a = im.crop(box).save(os.path.join(\"/content/drive/My Drive/CV/patches\",\"IMG-%s.jpg\" % k))\n",
        "      k +=1\n",
        "crop()"
      ],
      "execution_count": null,
      "outputs": []
    },
    {
      "cell_type": "code",
      "metadata": {
        "id": "dx9PBKLeXdaF"
      },
      "source": [
        "images = []\n",
        "for filename in os.listdir(\"/content/drive/My Drive/CV/patches\"):\n",
        "  img = cv.imread(os.path.join(\"/content/drive/My Drive/CV/patches\",filename))\n",
        "  if img is not None:\n",
        "    images.append(img)\n",
        "images = np.array(images)"
      ],
      "execution_count": null,
      "outputs": []
    },
    {
      "cell_type": "code",
      "metadata": {
        "id": "6nQTRQJ8XiZ3"
      },
      "source": [
        "train_img = images.reshape((196,16*16*3))"
      ],
      "execution_count": null,
      "outputs": []
    },
    {
      "cell_type": "code",
      "metadata": {
        "id": "rK7Id7xycQrh"
      },
      "source": [
        "def constructImage (image, result):\n",
        "  pos = 0\n",
        "  for i in range(0,224,16):\n",
        "      for j in range(0,224,16):\n",
        "          image[i:i+16, j:j+16] = result[pos]\n",
        "          pos += 1\n",
        "  return image"
      ],
      "execution_count": null,
      "outputs": []
    },
    {
      "cell_type": "code",
      "metadata": {
        "id": "GZlD9cXVXtu8",
        "colab": {
          "base_uri": "https://localhost:8080/",
          "height": 579
        },
        "outputId": "1fff8a58-1e06-419b-9824-5b01e4236c5a"
      },
      "source": [
        "pca_with_k10 = PCA(n_components=10).fit(train_img)\n",
        "pca_with_k10_result = pca_with_k10.fit_transform(train_img)\n",
        "plt.plot(pca_with_k10.explained_variance_)\n",
        "plt.xlabel('nth eigen value')\n",
        "plt.ylabel('Eigen Values')"
      ],
      "execution_count": null,
      "outputs": [
        {
          "output_type": "execute_result",
          "data": {
            "text/plain": [
              "Text(0, 0.5, 'Eigen Values')"
            ]
          },
          "metadata": {
            "tags": []
          },
          "execution_count": 131
        },
        {
          "output_type": "display_data",
          "data": {
            "image/png": "[encoded data removed]",
            "text/plain": [
              "<Figure size 864x648 with 1 Axes>"
            ]
          },
          "metadata": {
            "tags": [],
            "needs_background": "light"
          }
        }
      ]
    },
    {
      "cell_type": "code",
      "metadata": {
        "id": "mcAbyrRWYDW1"
      },
      "source": [
        "pca_with_k10_result_inverse = pca_with_k10.inverse_transform(pca_with_k10_result)\n",
        "pca_with_k10_result_inverse = np.reshape(pca_with_k10_result_inverse,(196,16,16,3))"
      ],
      "execution_count": null,
      "outputs": []
    },
    {
      "cell_type": "code",
      "metadata": {
        "id": "ULzZ5rHJY9Lr",
        "colab": {
          "base_uri": "https://localhost:8080/"
        },
        "outputId": "18bfd6d6-0abc-4105-9528-6b56e842c191"
      },
      "source": [
        "image_k10 = np.zeros_like(im)\n",
        "image_k10 = constructImage(image_k10,pca_with_k10_result_inverse)\n",
        "cv.imwrite(\"/content/drive/My Drive/CV/results/image_k10.jpg\",image_k10)"
      ],
      "execution_count": null,
      "outputs": [
        {
          "output_type": "execute_result",
          "data": {
            "text/plain": [
              "True"
            ]
          },
          "metadata": {
            "tags": []
          },
          "execution_count": 133
        }
      ]
    },
    {
      "cell_type": "code",
      "metadata": {
        "id": "rGleVnPmbzAt",
        "colab": {
          "base_uri": "https://localhost:8080/",
          "height": 579
        },
        "outputId": "3b945b1e-e840-4069-f574-648789aa5232"
      },
      "source": [
        "pca_with_k100 = PCA(n_components=100).fit(train_img)\n",
        "pca_with_k100_result = pca_with_k100.fit_transform(train_img)\n",
        "plt.plot(pca_with_k100.explained_variance_)\n",
        "plt.xlabel('nth eigen value')\n",
        "plt.ylabel('Eigen Values')"
      ],
      "execution_count": null,
      "outputs": [
        {
          "output_type": "execute_result",
          "data": {
            "text/plain": [
              "Text(0, 0.5, 'Eigen Values')"
            ]
          },
          "metadata": {
            "tags": []
          },
          "execution_count": 37
        },
        {
          "output_type": "display_data",
          "data": {
            "image/png": "[encoded data removed]",
            "text/plain": [
              "<Figure size 864x648 with 1 Axes>"
            ]
          },
          "metadata": {
            "tags": [],
            "needs_background": "light"
          }
        }
      ]
    },
    {
      "cell_type": "code",
      "metadata": {
        "id": "nt967weOc33q"
      },
      "source": [
        "pca_with_k100_result_inverse = pca_with_k100.inverse_transform(pca_with_k100_result)\n",
        "pca_with_k100_result_inverse = np.reshape(pca_with_k100_result_inverse,(196,16,16,3))"
      ],
      "execution_count": null,
      "outputs": []
    },
    {
      "cell_type": "code",
      "metadata": {
        "id": "5dIn5fZ1c6pp",
        "colab": {
          "base_uri": "https://localhost:8080/"
        },
        "outputId": "62024c4f-283a-4b00-d90c-b362b1c36aa2"
      },
      "source": [
        "image_k100 = np.zeros_like(im)\n",
        "image_k100 = constructImage(image_k100,pca_with_k100_result_inverse)\n",
        "cv.imwrite(\"/content/drive/My Drive/CV/results/image_k100.jpg\",image_k100)"
      ],
      "execution_count": null,
      "outputs": [
        {
          "output_type": "execute_result",
          "data": {
            "text/plain": [
              "True"
            ]
          },
          "metadata": {
            "tags": []
          },
          "execution_count": 29
        }
      ]
    },
    {
      "cell_type": "code",
      "metadata": {
        "id": "DxnpUV_pAbw4",
        "colab": {
          "base_uri": "https://localhost:8080/"
        },
        "outputId": "7d3cd176-b050-471c-b53c-7ab03071ddc6"
      },
      "source": [
        "pca_with_k50 = PCA(n_components=50).fit(train_img)\n",
        "pca_with_k50_result = pca_with_k50.fit_transform(train_img)\n",
        "pca_with_k50_result_inverse = pca_with_k50.inverse_transform(pca_with_k50_result)\n",
        "pca_with_k50_result_inverse = np.reshape(pca_with_k50_result_inverse,(196,16,16,3))\n",
        "image_k50 = np.zeros_like(im)\n",
        "image_k50 = constructImage(image_k50,pca_with_k50_result_inverse)\n",
        "cv.imwrite(\"/content/drive/My Drive/CV/results/image_k50.jpg\",image_k50)"
      ],
      "execution_count": null,
      "outputs": [
        {
          "output_type": "execute_result",
          "data": {
            "text/plain": [
              "True"
            ]
          },
          "metadata": {
            "tags": []
          },
          "execution_count": 112
        }
      ]
    },
    {
      "cell_type": "code",
      "metadata": {
        "id": "Y0L9MzPBlvL8",
        "colab": {
          "base_uri": "https://localhost:8080/",
          "height": 329
        },
        "outputId": "da4c72cb-b2e5-458e-ced9-7d30ea943d1a"
      },
      "source": [
        "from mpl_toolkits.axes_grid1 import ImageGrid\n",
        "fig = plt.figure(figsize=(5,5))\n",
        "matrix = ImageGrid(fig,111,nrows_ncols=(2,5))\n",
        "vectors =[]\n",
        "for vector in pca_with_k10.components_:\n",
        "  scaled_img = vector*25\n",
        "  scaled_img = scaled_img.reshape(16,16,3)\n",
        "  vectors.append(scaled_img)\n",
        "for ax, img in zip(matrix,vectors):\n",
        "  ax.imshow(img)\n",
        "plt.show()"
      ],
      "execution_count": null,
      "outputs": [
        {
          "output_type": "stream",
          "text": [
            "Clipping input data to the valid range for imshow with RGB data ([0..1] for floats or [0..255] for integers).\n",
            "Clipping input data to the valid range for imshow with RGB data ([0..1] for floats or [0..255] for integers).\n",
            "Clipping input data to the valid range for imshow with RGB data ([0..1] for floats or [0..255] for integers).\n",
            "Clipping input data to the valid range for imshow with RGB data ([0..1] for floats or [0..255] for integers).\n",
            "Clipping input data to the valid range for imshow with RGB data ([0..1] for floats or [0..255] for integers).\n",
            "Clipping input data to the valid range for imshow with RGB data ([0..1] for floats or [0..255] for integers).\n",
            "Clipping input data to the valid range for imshow with RGB data ([0..1] for floats or [0..255] for integers).\n",
            "Clipping input data to the valid range for imshow with RGB data ([0..1] for floats or [0..255] for integers).\n",
            "Clipping input data to the valid range for imshow with RGB data ([0..1] for floats or [0..255] for integers).\n",
            "Clipping input data to the valid range for imshow with RGB data ([0..1] for floats or [0..255] for integers).\n"
          ],
          "name": "stderr"
        },
        {
          "output_type": "display_data",
          "data": {
            "image/png": "[encoded data removed]",
            "text/plain": [
              "<Figure size 360x360 with 20 Axes>"
            ]
          },
          "metadata": {
            "tags": [],
            "needs_background": "light"
          }
        }
      ]
    }
  ]
}